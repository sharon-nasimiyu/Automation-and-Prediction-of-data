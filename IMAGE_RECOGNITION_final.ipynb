{
  "nbformat": 4,
  "nbformat_minor": 0,
  "metadata": {
    "colab": {
      "provenance": [],
      "authorship_tag": "ABX9TyOTbZCuyDQDdGlhLrHiu+fx",
      "include_colab_link": true
    },
    "kernelspec": {
      "name": "python3",
      "display_name": "Python 3"
    },
    "language_info": {
      "name": "python"
    }
  },
  "cells": [
    {
      "cell_type": "markdown",
      "metadata": {
        "id": "view-in-github",
        "colab_type": "text"
      },
      "source": [
        "<a href=\"https://colab.research.google.com/github/sharon-nasimiyu/Automation-and-Prediction-of-data/blob/main/IMAGE_RECOGNITION_final.ipynb\" target=\"_parent\"><img src=\"https://colab.research.google.com/assets/colab-badge.svg\" alt=\"Open In Colab\"/></a>"
      ]
    },
    {
      "cell_type": "code",
      "execution_count": 34,
      "metadata": {
        "id": "Rjjq16rgKAZR"
      },
      "outputs": [],
      "source": [
        "# Import necessary libraries\n",
        "import torch\n",
        "import torch.nn as nn\n",
        "import torch.optim as optim\n",
        "import torchvision.datasets as datasets\n",
        "import torchvision.transforms as transforms\n",
        "import numpy as np\n",
        "import matplotlib.pyplot as plt\n",
        "from sklearn.metrics import confusion_matrix\n"
      ]
    },
    {
      "cell_type": "markdown",
      "source": [
        "PROBLEM STATEMENT:Design your own method or modify existing algorithm(s) to process and \n",
        "recognize images of handwritten digits"
      ],
      "metadata": {
        "id": "zNUZTYffNJco"
      }
    },
    {
      "cell_type": "code",
      "source": [
        "# Define the MLP architecture\n",
        "class MLP(nn.Module):\n",
        "    def __init__(self):\n",
        "        super(MLP, self).__init__()\n",
        "        self.fc1 = nn.Linear(in_features=28*28, out_features=128)\n",
        "        self.fc2 = nn.Linear(in_features=128, out_features=64)\n",
        "        self.fc3 = nn.Linear(in_features=64, out_features=10)\n",
        "        self.relu = nn.ReLU()\n",
        "        self.dropout = nn.Dropout(p=0.5)\n",
        "\n",
        "    '''This code defines an MLP (Multi-Layer Perceptron) architecture with three fully connected layers. \n",
        "    The input size is 28*28 (the dimensions of the MNIST images) and the output size is 10 (the number of classes - digits 0-9).\n",
        "    The ReLU activation function is used in the hidden layers, and a dropout layer is added for regularization.'''\n",
        "    \n",
        "    def forward(self, x):\n",
        "        x = x.view(-1, 28*28)\n",
        "        x = self.fc1(x)\n",
        "        x = self.relu(x)\n",
        "        x = self.dropout(x)\n",
        "        x = self.fc2(x)\n",
        "        x = self.relu(x)\n",
        "        x = self.dropout(x)\n",
        "        x = self.fc3(x)\n",
        "        return x\n"
      ],
      "metadata": {
        "id": "HhE8UeRNQSuZ"
      },
      "execution_count": 35,
      "outputs": []
    },
    {
      "cell_type": "code",
      "source": [
        "#loading the data and preparing MNIST dataset for use in training and testing a PyTorch model. \n",
        "transform = transforms.Compose([transforms.ToTensor(), transforms.Normalize((0.5,), (0.5,))])\n",
        "\n",
        "'''This code block loads the MNIST dataset and preprocesses the data using PyTorch's transforms module. Specifically, it applies two transformations to the data:\n",
        "transforms.ToTensor(): Converts the input PIL image or numpy array to a PyTorch tensor.\n",
        " This allows the data to be used by PyTorch models.\n",
        "transforms.Normalize(): Normalizes the tensor image with mean and standard deviation. \n",
        " The mean and standard deviation are passed as arguments to this transformation. In this case, the mean and standard deviation are both set to 0.5.'''\n",
        "train_dataset = datasets.MNIST(root='/content/train', train=True, download=True, transform=transform)\n",
        "test_dataset = datasets.MNIST(root='/content/test', train=False, download=True, transform=transform)\n",
        "train_loader = torch.utils.data.DataLoader(dataset=train_dataset, batch_size=128, shuffle=True)\n",
        "test_loader = torch.utils.data.DataLoader(dataset=test_dataset, batch_size=128, shuffle=False)\n"
      ],
      "metadata": {
        "id": "ERtzBiD9Ri7q"
      },
      "execution_count": 36,
      "outputs": []
    },
    {
      "cell_type": "code",
      "source": [],
      "metadata": {
        "id": "93Wn8Be_IX8U"
      },
      "execution_count": null,
      "outputs": []
    },
    {
      "cell_type": "code",
      "source": [
        "# Plot some sample images\n",
        "fig, axs = plt.subplots(nrows=2, ncols=5, figsize=(10, 4))\n",
        "for i, ax in enumerate(axs.flatten()):\n",
        "    img, label = train_dataset[i]\n",
        "    img = img.numpy().squeeze()  # convert tensor to numpy array and remove the channel dimension\n",
        "    ax.imshow(img, cmap='gray')\n",
        "    ax.set_title(f\"Label: {label}\")\n",
        "    ax.axis('off')\n",
        "plt.tight_layout()\n",
        "plt.show()\n"
      ],
      "metadata": {
        "colab": {
          "base_uri": "https://localhost:8080/",
          "height": 410
        },
        "id": "xVS8ICdqYs0t",
        "outputId": "9497dc47-d075-4728-9248-ccf3dccd813d"
      },
      "execution_count": 37,
      "outputs": [
        {
          "output_type": "display_data",
          "data": {
            "text/plain": [
              "<Figure size 1000x400 with 10 Axes>"
            ],
            "image/png": "[encoded data removed]"
          },
          "metadata": {}
        }
      ]
    },
    {
      "cell_type": "code",
      "source": [
        "# Instantiate the MLP model and set the loss function and optimizer\n",
        "model = MLP()\n",
        "criterion = nn.CrossEntropyLoss()\n",
        "optimizer = optim.Adam(model.parameters(), lr=0.001)\n",
        "'''This code instantiates the MLP model, sets the loss function to CrossEntropyLoss and the optimizer to Adam. \n",
        "The model been defined in the previous step and the optimizer is used to optimize the model's parameters during training'''\n",
        "\n"
      ],
      "metadata": {
        "colab": {
          "base_uri": "https://localhost:8080/",
          "height": 54
        },
        "id": "N0x1oEnFQcVI",
        "outputId": "5c598b6d-4873-49c3-ecf9-d90cb193c32f"
      },
      "execution_count": 38,
      "outputs": [
        {
          "output_type": "execute_result",
          "data": {
            "text/plain": [
              "\"This code instantiates the MLP model, sets the loss function to CrossEntropyLoss and the optimizer to Adam. \\nThe model been defined in the previous step and the optimizer is used to optimize the model's parameters during training\""
            ],
            "application/vnd.google.colaboratory.intrinsic+json": {
              "type": "string"
            }
          },
          "metadata": {},
          "execution_count": 38
        }
      ]
    },
    {
      "cell_type": "code",
      "source": [
        "# Train the model\n",
        "num_epochs = 10\n",
        "for epoch in range(num_epochs):\n",
        "    for i, (images, labels) in enumerate(train_loader):\n",
        "        optimizer.zero_grad()\n",
        "        outputs = model(images)\n",
        "        loss = criterion(outputs, labels)\n",
        "        loss.backward()\n",
        "        optimizer.step()\n",
        "        if (i+1) % 100 == 0:\n",
        "            print('Epoch [{}/{}], Step [{}/{}], Loss: {:.4f}'.format(epoch+1, num_epochs, i+1, len(train_loader), loss.item()))\n",
        "\n"
      ],
      "metadata": {
        "colab": {
          "base_uri": "https://localhost:8080/"
        },
        "id": "A3VIq05FQent",
        "outputId": "594e9b4d-2a74-4319-ea65-ada7e8cfce3d"
      },
      "execution_count": 39,
      "outputs": [
        {
          "output_type": "stream",
          "name": "stdout",
          "text": [
            "Epoch [1/10], Step [100/469], Loss: 0.7848\n",
            "Epoch [1/10], Step [200/469], Loss: 0.7661\n",
            "Epoch [1/10], Step [300/469], Loss: 0.7406\n",
            "Epoch [1/10], Step [400/469], Loss: 0.5248\n",
            "Epoch [2/10], Step [100/469], Loss: 0.5058\n",
            "Epoch [2/10], Step [200/469], Loss: 0.4066\n",
            "Epoch [2/10], Step [300/469], Loss: 0.4267\n",
            "Epoch [2/10], Step [400/469], Loss: 0.3856\n",
            "Epoch [3/10], Step [100/469], Loss: 0.2476\n",
            "Epoch [3/10], Step [200/469], Loss: 0.3380\n",
            "Epoch [3/10], Step [300/469], Loss: 0.4483\n",
            "Epoch [3/10], Step [400/469], Loss: 0.4007\n",
            "Epoch [4/10], Step [100/469], Loss: 0.3884\n",
            "Epoch [4/10], Step [200/469], Loss: 0.3308\n",
            "Epoch [4/10], Step [300/469], Loss: 0.2798\n",
            "Epoch [4/10], Step [400/469], Loss: 0.3289\n",
            "Epoch [5/10], Step [100/469], Loss: 0.2595\n",
            "Epoch [5/10], Step [200/469], Loss: 0.4001\n",
            "Epoch [5/10], Step [300/469], Loss: 0.4157\n",
            "Epoch [5/10], Step [400/469], Loss: 0.3178\n",
            "Epoch [6/10], Step [100/469], Loss: 0.2479\n",
            "Epoch [6/10], Step [200/469], Loss: 0.3599\n",
            "Epoch [6/10], Step [300/469], Loss: 0.2680\n",
            "Epoch [6/10], Step [400/469], Loss: 0.3079\n",
            "Epoch [7/10], Step [100/469], Loss: 0.3849\n",
            "Epoch [7/10], Step [200/469], Loss: 0.3637\n",
            "Epoch [7/10], Step [300/469], Loss: 0.7418\n",
            "Epoch [7/10], Step [400/469], Loss: 0.3002\n",
            "Epoch [8/10], Step [100/469], Loss: 0.3912\n",
            "Epoch [8/10], Step [200/469], Loss: 0.4014\n",
            "Epoch [8/10], Step [300/469], Loss: 0.2190\n",
            "Epoch [8/10], Step [400/469], Loss: 0.3366\n",
            "Epoch [9/10], Step [100/469], Loss: 0.2871\n",
            "Epoch [9/10], Step [200/469], Loss: 0.2823\n",
            "Epoch [9/10], Step [300/469], Loss: 0.2538\n",
            "Epoch [9/10], Step [400/469], Loss: 0.2677\n",
            "Epoch [10/10], Step [100/469], Loss: 0.2586\n",
            "Epoch [10/10], Step [200/469], Loss: 0.2719\n",
            "Epoch [10/10], Step [300/469], Loss: 0.2517\n",
            "Epoch [10/10], Step [400/469], Loss: 0.4062\n"
          ]
        }
      ]
    },
    {
      "cell_type": "code",
      "source": [
        "# Split the training set into training and validation sets\n",
        "train_size = int(0.8 * len(train_dataset))\n",
        "val_size = len(train_dataset) - train_size\n",
        "train_dataset, val_dataset = torch.utils.data.random_split(train_dataset, [train_size, val_size])\n",
        "\n",
        "# Define data loaders for the training, validation, and test sets\n",
        "train_loader = torch.utils.data.DataLoader(dataset=train_dataset, batch_size=128, shuffle=True)\n",
        "val_loader = torch.utils.data.DataLoader(dataset=val_dataset, batch_size=128, shuffle=True)\n",
        "test_loader = torch.utils.data.DataLoader(dataset=test_dataset, batch_size=128, shuffle=False)\n"
      ],
      "metadata": {
        "id": "PYclNOVLQhXq"
      },
      "execution_count": 40,
      "outputs": []
    },
    {
      "cell_type": "code",
      "source": [
        "train_dataset_size = len(train_loader.dataset)\n",
        "test_dataset_size = len(test_loader.dataset)\n",
        "\n",
        "print(f\"Training dataset size: {train_dataset_size}\")\n",
        "print(f\"Test dataset size: {test_dataset_size}\")\n"
      ],
      "metadata": {
        "colab": {
          "base_uri": "https://localhost:8080/"
        },
        "id": "ve9o5n3sMBGe",
        "outputId": "da0b744e-b685-4366-f727-27fbc8f6648e"
      },
      "execution_count": 51,
      "outputs": [
        {
          "output_type": "stream",
          "name": "stdout",
          "text": [
            "Training dataset size: 48000\n",
            "Test dataset size: 10000\n"
          ]
        }
      ]
    },
    {
      "cell_type": "code",
      "source": [
        "# Validate the model\n",
        "with torch.no_grad():\n",
        "    correct = 0\n",
        "    total = 0\n",
        "    for images, labels in val_loader:\n",
        "        outputs = model(images)\n",
        "        _, predicted = torch.max(outputs.data, 1)\n",
        "        total += labels.size(0)\n",
        "        correct += (predicted == labels).sum().item()\n",
        "\n",
        "    print('Accuracy on the validation set: {} %'.format(100 * correct / total))\n"
      ],
      "metadata": {
        "colab": {
          "base_uri": "https://localhost:8080/"
        },
        "id": "sHMZaJ5hiF0E",
        "outputId": "50bb98b1-976e-4a96-cd97-5a9c042af603"
      },
      "execution_count": 41,
      "outputs": [
        {
          "output_type": "stream",
          "name": "stdout",
          "text": [
            "Accuracy on the validation set: 91.76666666666667 %\n"
          ]
        }
      ]
    },
    {
      "cell_type": "markdown",
      "source": [
        "**CONFUSION MATRIX**"
      ],
      "metadata": {
        "id": "FHVvkcMqotwN"
      }
    },
    {
      "cell_type": "code",
      "source": [
        "# Set model to evaluation mode\n",
        "model.eval()\n",
        "\n",
        "# Create empty list to store true labels and predicted labels\n",
        "true_labels = []\n",
        "predicted_labels = []\n",
        "\n",
        "# Iterate over test data and get true and predicted labels\n",
        "for images, labels in test_loader:\n",
        "    outputs = model(images)\n",
        "    _, predicted = torch.max(outputs.data, 1)\n",
        "    true_labels += labels.numpy().tolist()\n",
        "    predicted_labels += predicted.numpy().tolist()\n",
        "\n",
        "# Create confusion matrix\n",
        "conf_matrix = confusion_matrix(true_labels, predicted_labels)\n",
        "\n",
        "# Create colormap\n",
        "cmap = plt.get_cmap('Blues')\n",
        "\n",
        "# Create figure and axes for plot\n",
        "fig, ax = plt.subplots()\n",
        "im = ax.imshow(conf_matrix, cmap=cmap)\n",
        "\n",
        "# Add colorbar\n",
        "cbar = ax.figure.colorbar(im, ax=ax)\n",
        "\n",
        "# Set labels and title\n",
        "ax.set_xlabel('Predicted labels')\n",
        "ax.set_ylabel('True labels')\n",
        "ax.set_title('Confusion Matrix')\n",
        "\n",
        "# Set tick labels\n",
        "ax.set_xticks(np.arange(10))\n",
        "ax.set_yticks(np.arange(10))\n",
        "ax.set_xticklabels(['0', '1', '2', '3', '4', '5', '6', '7', '8', '9'])\n",
        "ax.set_yticklabels(['0', '1', '2', '3', '4', '5', '6', '7', '8', '9'])\n",
        "\n",
        "# Rotate tick labels\n",
        "plt.setp(ax.get_xticklabels(), rotation=45, ha=\"right\",\n",
        "         rotation_mode=\"anchor\")\n",
        "\n",
        "# Loop over data dimensions and create text annotations\n",
        "for i in range(10):\n",
        "    for j in range(10):\n",
        "        ax.text(j, i, format(conf_matrix[i, j], 'd'),\n",
        "                ha=\"center\", va=\"center\",\n",
        "                color=\"white\" if conf_matrix[i, j] > np.max(conf_matrix) / 2. else \"black\")\n",
        "\n",
        "# Show plot\n",
        "plt.show()\n"
      ],
      "metadata": {
        "colab": {
          "base_uri": "https://localhost:8080/",
          "height": 474
        },
        "id": "ZU9hNUf0XwCl",
        "outputId": "216fa52f-bd40-4d1f-8f64-5bc43a6cb294"
      },
      "execution_count": 42,
      "outputs": [
        {
          "output_type": "display_data",
          "data": {
            "text/plain": [
              "<Figure size 640x480 with 2 Axes>"
            ],
            "image/png": "[encoded data removed]"
          },
          "metadata": {}
        }
      ]
    },
    {
      "cell_type": "code",
      "source": [
        "# Define the three classes\n",
        "class1 = [0, 1, 2, 3]\n",
        "class2 = [4, 5, 6]\n",
        "class3 = [7, 8, 9]\n",
        "\n",
        "# Set model to evaluation mode\n",
        "model.eval()\n",
        "\n",
        "# Create empty lists to store true labels and predicted labels\n",
        "true_labels = []\n",
        "predicted_labels = []\n",
        "\n",
        "# Iterate over test data and get true and predicted labels\n",
        "for images, labels in test_loader:\n",
        "    outputs = model(images)\n",
        "    _, predicted = torch.max(outputs.data, 1)\n",
        "    true_labels += labels.numpy().tolist()\n",
        "    predicted_labels += predicted.numpy().tolist()\n",
        "\n",
        "# Create empty confusion matrix\n",
        "conf_matrix = np.zeros((3, 3))\n",
        "\n",
        "# Fill the confusion matrix\n",
        "for true, predicted in zip(true_labels, predicted_labels):\n",
        "    if true in class1:\n",
        "        true_index = 0\n",
        "    elif true in class2:\n",
        "        true_index = 1\n",
        "    else:\n",
        "        true_index = 2\n",
        "        \n",
        "    if predicted in class1:\n",
        "        predicted_index = 0\n",
        "    elif predicted in class2:\n",
        "        predicted_index = 1\n",
        "    else:\n",
        "        predicted_index = 2\n",
        "        \n",
        "    conf_matrix[true_index, predicted_index] += 1\n",
        "\n",
        "# Print the confusion matrix\n",
        "print(conf_matrix)\n"
      ],
      "metadata": {
        "colab": {
          "base_uri": "https://localhost:8080/"
        },
        "id": "sUtL_4ERI2nD",
        "outputId": "a9f83f96-011f-47d2-eaa6-5b256ff96a43"
      },
      "execution_count": 47,
      "outputs": [
        {
          "output_type": "stream",
          "name": "stdout",
          "text": [
            "[[4069.   33.   55.]\n",
            " [  47. 2737.   48.]\n",
            " [  85.   47. 2879.]]\n"
          ]
        }
      ]
    },
    {
      "cell_type": "code",
      "source": [
        "# Get true and predicted labels for test data\n",
        "true_labels = []\n",
        "predicted_labels = []\n",
        "for images, labels in test_loader:\n",
        "    outputs = model(images)\n",
        "    _, predicted = torch.max(outputs.data, 1)\n",
        "    true_labels += labels.numpy().tolist()\n",
        "    predicted_labels += predicted.numpy().tolist()\n",
        "\n",
        "# Create confusion matrix\n",
        "conf_matrix = confusion_matrix(true_labels, predicted_labels)\n",
        "\n",
        "# Extract the positives and negatives from the confusion matrix\n",
        "true_positives = conf_matrix[1, 1]\n",
        "false_positives = conf_matrix[0, 1]\n",
        "true_negatives = conf_matrix[0, 0]\n",
        "false_negatives = conf_matrix[1, 0]\n",
        "\n",
        "# Print the positives and negatives\n",
        "print(\"True positives:\", true_positives)\n",
        "print(\"False positives:\", false_positives)\n",
        "print(\"True negatives:\", true_negatives)\n",
        "print(\"False negatives:\", false_negatives)\n"
      ],
      "metadata": {
        "colab": {
          "base_uri": "https://localhost:8080/"
        },
        "id": "SUJ_R6hGo160",
        "outputId": "55c8747f-f145-40d3-9c88-e317cc27f162"
      },
      "execution_count": 43,
      "outputs": [
        {
          "output_type": "stream",
          "name": "stdout",
          "text": [
            "True positives: 1121\n",
            "False positives: 1\n",
            "True negatives: 969\n",
            "False negatives: 0\n"
          ]
        }
      ]
    },
    {
      "cell_type": "code",
      "source": [
        "per_class_acc = []\n",
        "for i in range(len(conf_matrix)):\n",
        "    class_total = conf_matrix[i].sum()\n",
        "    class_correct = conf_matrix[i][i]\n",
        "    class_acc = 100 * class_correct / class_total\n",
        "    per_class_acc.append(class_acc)\n",
        "    print(f\"Accuracy for class {i}: {class_acc:.2f}%\")\n"
      ],
      "metadata": {
        "colab": {
          "base_uri": "https://localhost:8080/"
        },
        "id": "I3yVkaK7KWpF",
        "outputId": "11af9db1-a228-4051-849f-8e6488513a46"
      },
      "execution_count": 50,
      "outputs": [
        {
          "output_type": "stream",
          "name": "stdout",
          "text": [
            "Accuracy for class 0: 97.88%\n",
            "Accuracy for class 1: 96.65%\n",
            "Accuracy for class 2: 95.62%\n"
          ]
        }
      ]
    },
    {
      "cell_type": "markdown",
      "source": [
        "**CLASSIFICATION REPORT**"
      ],
      "metadata": {
        "id": "fMwNbAPEbAaP"
      }
    },
    {
      "cell_type": "code",
      "source": [
        "#The code is used for performance measurement of the model\n",
        "\n",
        "import torch\n",
        "from sklearn.metrics import classification_report\n",
        "\n",
        "# inside the test loop\n",
        "model.eval()\n",
        "with torch.no_grad():\n",
        "    correct = 0\n",
        "    total = 0\n",
        "    all_labels = []\n",
        "    all_predicted = []\n",
        "    for images, labels in test_loader:\n",
        "        outputs = model(images)\n",
        "        _, predicted = torch.max(outputs.data, 1)\n",
        "        total += labels.size(0)\n",
        "        correct += (predicted == labels).sum().item()\n",
        "        all_labels += labels.tolist()\n",
        "        all_predicted += predicted.tolist()\n",
        "    \n",
        "    print('Accuracy of the model on the test images: {:.2f}%'.format(100 * correct / total))\n",
        "    print(classification_report(all_labels, all_predicted))\n"
      ],
      "metadata": {
        "colab": {
          "base_uri": "https://localhost:8080/"
        },
        "id": "eJ19tRx8a-g_",
        "outputId": "7208b2e6-ae8d-4170-f39b-7167d5936755"
      },
      "execution_count": 44,
      "outputs": [
        {
          "output_type": "stream",
          "name": "stdout",
          "text": [
            "Accuracy of the model on the test images: 95.60%\n",
            "              precision    recall  f1-score   support\n",
            "\n",
            "           0       0.97      0.99      0.98       980\n",
            "           1       0.97      0.99      0.98      1135\n",
            "           2       0.96      0.94      0.95      1032\n",
            "           3       0.93      0.96      0.94      1010\n",
            "           4       0.95      0.95      0.95       982\n",
            "           5       0.97      0.93      0.95       892\n",
            "           6       0.95      0.97      0.96       958\n",
            "           7       0.95      0.96      0.95      1028\n",
            "           8       0.96      0.92      0.94       974\n",
            "           9       0.94      0.94      0.94      1009\n",
            "\n",
            "    accuracy                           0.96     10000\n",
            "   macro avg       0.96      0.96      0.96     10000\n",
            "weighted avg       0.96      0.96      0.96     10000\n",
            "\n"
          ]
        }
      ]
    },
    {
      "cell_type": "markdown",
      "source": [
        "**OVERALL ACCURACY**"
      ],
      "metadata": {
        "id": "bsGpoOjYexJm"
      }
    },
    {
      "cell_type": "code",
      "source": [
        "# Evaluate the model on the test set\n",
        "model.eval()\n",
        "with torch.no_grad():\n",
        "    correct = 0\n",
        "    total = 0\n",
        "    for images, labels in test_loader:\n",
        "        outputs = model(images)\n",
        "        _, predicted = torch.max(outputs.data, 1)\n",
        "        total += labels.size(0)\n",
        "        correct += (predicted == labels).sum().item()\n",
        "    print('Accuracy of the model on the test images: {:.2f}%'.format(100 * correct / total))\n"
      ],
      "metadata": {
        "colab": {
          "base_uri": "https://localhost:8080/"
        },
        "id": "f7U2RTmae0zz",
        "outputId": "a9b7d521-6494-41ed-9105-9936286c57e9"
      },
      "execution_count": 45,
      "outputs": [
        {
          "output_type": "stream",
          "name": "stdout",
          "text": [
            "Accuracy of the model on the test images: 95.60%\n"
          ]
        }
      ]
    }
  ]
}